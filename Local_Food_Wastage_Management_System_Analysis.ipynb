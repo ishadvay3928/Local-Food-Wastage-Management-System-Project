{
  "nbformat": 4,
  "nbformat_minor": 0,
  "metadata": {
    "colab": {
      "private_outputs": true,
      "provenance": [],
      "collapsed_sections": [
        "vncDsAP0Gaoa",
        "FJNUwmbgGyua",
        "w6K7xa23Elo4",
        "yQaldy8SH6Dl",
        "PH-0ReGfmX4f",
        "HhfV-JJviCcP",
        "Y3lxredqlCYt",
        "3RnN4peoiCZX",
        "x71ZqKXriCWQ",
        "7hBIi_osiCS2",
        "JlHwYmJAmNHm",
        "35m5QtbWiB9F",
        "PoPl-ycgm1ru",
        "H0kj-8xxnORC",
        "nA9Y7ga8ng1Z",
        "PBTbrJXOngz2",
        "u3PMJOP6ngxN",
        "dauF4eBmngu3",
        "bKJF3rekwFvQ",
        "MSa1f5Uengrz",
        "0wOQAZs5pc--",
        "KSlN3yHqYklG",
        "EwiHc85sqtyK",
        "EM7whBJCYoAo",
        "4Of9eVA-YrdM",
        "bamQiAODYuh1",
        "BZR9WyysphqO",
        "XVAB2WSV_K6d",
        "ebNkfJIXA3BX",
        "OH-pJp9IphqM",
        "hBwiCKPBYjnT",
        "PIIx-8_IphqN",
        "YJ55k-q6phqO",
        "U2RJ9gkRphqQ"
      ],
      "include_colab_link": true
    },
    "kernelspec": {
      "name": "python3",
      "display_name": "Python 3"
    },
    "language_info": {
      "name": "python"
    }
  },
  "cells": [
    {
      "cell_type": "markdown",
      "metadata": {
        "id": "view-in-github",
        "colab_type": "text"
      },
      "source": [
        "<a href=\"https://colab.research.google.com/github/ishadvay3928/Local-Food-Wastage-Management-System-Project/blob/main/Local_Food_Wastage_Management_System_Analysis.ipynb\" target=\"_parent\"><img src=\"https://colab.research.google.com/assets/colab-badge.svg\" alt=\"Open In Colab\"/></a>"
      ]
    },
    {
      "cell_type": "markdown",
      "source": [
        "# **Project Name**    - **Local Food Wastage Management System Analysis**\n",
        "\n"
      ],
      "metadata": {
        "id": "vncDsAP0Gaoa"
      }
    },
    {
      "cell_type": "markdown",
      "source": [
        "# **GitHub Link -**"
      ],
      "metadata": {
        "id": "w6K7xa23Elo4"
      }
    },
    {
      "cell_type": "markdown",
      "source": [
        "https://github.com/ishadvay3928/Local-Food-Wastage-Management-System-Project/blob/main/Local_Food_Wastage_Management_System_Analysis.ipynb"
      ],
      "metadata": {
        "id": "h1o69JH3Eqqn"
      }
    },
    {
      "cell_type": "markdown",
      "source": [
        "# **Problem Statement**\n"
      ],
      "metadata": {
        "id": "yQaldy8SH6Dl"
      }
    },
    {
      "cell_type": "markdown",
      "source": [
        "Food wastage is a significant issue, with many households and restaurants discarding surplus food while numerous people struggle with food insecurity. This project aims to develop a Local Food Wastage Management System, where:\n",
        "* Restaurants and individuals can list surplus food.\n",
        "* NGOs or individuals in need can claim the food.\n",
        "* SQL stores available food details and locations.\n",
        "* A Streamlit app enables interaction, filtering, CRUD operation and visualization.\n",
        "\n",
        "\n",
        "\n",
        "\n"
      ],
      "metadata": {
        "id": "DpeJGUA3kjGy"
      }
    },
    {
      "cell_type": "markdown",
      "source": [
        "#### **Define Your Business Objective?**"
      ],
      "metadata": {
        "id": "PH-0ReGfmX4f"
      }
    },
    {
      "cell_type": "markdown",
      "source": [
        "\n"
      ],
      "metadata": {
        "id": "PhDvGCAqmjP1"
      }
    },
    {
      "cell_type": "markdown",
      "source": [
        "# ***Let's Begin !***"
      ],
      "metadata": {
        "id": "O_i_v8NEhb9l"
      }
    },
    {
      "cell_type": "markdown",
      "source": [
        "## ***1. Know Your Data***"
      ],
      "metadata": {
        "id": "HhfV-JJviCcP"
      }
    },
    {
      "cell_type": "markdown",
      "source": [
        "### Import Libraries"
      ],
      "metadata": {
        "id": "Y3lxredqlCYt"
      }
    },
    {
      "cell_type": "code",
      "source": [
        "# Import Libraries\n",
        "import numpy as np\n",
        "import pandas as pd\n",
        "import matplotlib.pyplot as plt\n",
        "%matplotlib inline\n",
        "import seaborn as sns"
      ],
      "metadata": {
        "id": "M8Vqi-pPk-HR"
      },
      "execution_count": null,
      "outputs": []
    },
    {
      "cell_type": "markdown",
      "source": [
        "### Dataset Loading"
      ],
      "metadata": {
        "id": "3RnN4peoiCZX"
      }
    },
    {
      "cell_type": "code",
      "execution_count": null,
      "metadata": {
        "id": "ovK2BRJojy8z"
      },
      "outputs": [],
      "source": [
        "# Load all the  Datasets\n",
        "\n",
        "df_providers = pd.read_csv(\"/content/providers_data.csv\")\n",
        "df_receivers = pd.read_csv(\"/content/providers_data.csv\")\n",
        "df_food_listings = pd.read_csv(\"/content/food_listings_data.csv\")\n",
        "df_claims = pd.read_csv(\"/content/claims_data.csv\")"
      ]
    },
    {
      "cell_type": "markdown",
      "source": [
        "### Dataset First View"
      ],
      "metadata": {
        "id": "x71ZqKXriCWQ"
      }
    },
    {
      "cell_type": "code",
      "source": [
        "# First Look\n",
        "df_providers.head()"
      ],
      "metadata": {
        "id": "LWNFOSvLl09H",
        "collapsed": true
      },
      "execution_count": null,
      "outputs": []
    },
    {
      "cell_type": "code",
      "source": [
        "df_receivers.head()"
      ],
      "metadata": {
        "id": "oCAqHOxq8JIU"
      },
      "execution_count": null,
      "outputs": []
    },
    {
      "cell_type": "code",
      "source": [
        "df_food_listings.head()"
      ],
      "metadata": {
        "id": "jgjxUvoAA9LB"
      },
      "execution_count": null,
      "outputs": []
    },
    {
      "cell_type": "code",
      "source": [
        "df_claims.head()"
      ],
      "metadata": {
        "id": "VGlp8JYwBBcv"
      },
      "execution_count": null,
      "outputs": []
    },
    {
      "cell_type": "markdown",
      "source": [
        "### Dataset Rows & Columns count"
      ],
      "metadata": {
        "id": "7hBIi_osiCS2"
      }
    },
    {
      "cell_type": "code",
      "source": [
        "# Dataset Rows & Columns count\n",
        "df_providers.shape"
      ],
      "metadata": {
        "id": "Kllu7SJgmLij"
      },
      "execution_count": null,
      "outputs": []
    },
    {
      "cell_type": "code",
      "source": [
        "df_receivers.shape"
      ],
      "metadata": {
        "id": "Pmxuc-MN9IyT"
      },
      "execution_count": null,
      "outputs": []
    },
    {
      "cell_type": "code",
      "source": [
        "df_food_listings.shape"
      ],
      "metadata": {
        "id": "vASv7SBeBXyA"
      },
      "execution_count": null,
      "outputs": []
    },
    {
      "cell_type": "code",
      "source": [
        "df_claims.shape"
      ],
      "metadata": {
        "id": "vy5jDx7MBcwf"
      },
      "execution_count": null,
      "outputs": []
    },
    {
      "cell_type": "markdown",
      "source": [
        "### Dataset Information"
      ],
      "metadata": {
        "id": "JlHwYmJAmNHm"
      }
    },
    {
      "cell_type": "code",
      "source": [
        "# Dataset Info\n",
        "df_providers.info()"
      ],
      "metadata": {
        "id": "e9hRXRi6meOf"
      },
      "execution_count": null,
      "outputs": []
    },
    {
      "cell_type": "code",
      "source": [
        "df_receivers.info()"
      ],
      "metadata": {
        "id": "IVn0UClz9S3l"
      },
      "execution_count": null,
      "outputs": []
    },
    {
      "cell_type": "code",
      "source": [
        "df_food_listings.info()"
      ],
      "metadata": {
        "id": "N8eMX-q7B1WD"
      },
      "execution_count": null,
      "outputs": []
    },
    {
      "cell_type": "code",
      "source": [
        "df_claims.info()"
      ],
      "metadata": {
        "id": "_wm7r1WEB740"
      },
      "execution_count": null,
      "outputs": []
    },
    {
      "cell_type": "markdown",
      "source": [
        "#### Duplicate Values"
      ],
      "metadata": {
        "id": "35m5QtbWiB9F"
      }
    },
    {
      "cell_type": "code",
      "source": [
        "# Duplicate Value Count\n",
        "df_providers.duplicated().sum()"
      ],
      "metadata": {
        "id": "1sLdpKYkmox0"
      },
      "execution_count": null,
      "outputs": []
    },
    {
      "cell_type": "code",
      "source": [
        "df_receivers.duplicated().sum()"
      ],
      "metadata": {
        "id": "cQf_8mYQ9hQP"
      },
      "execution_count": null,
      "outputs": []
    },
    {
      "cell_type": "code",
      "source": [
        "df_food_listings.duplicated().sum()"
      ],
      "metadata": {
        "id": "9LKz9NYpCYqT"
      },
      "execution_count": null,
      "outputs": []
    },
    {
      "cell_type": "code",
      "source": [
        "df_claims.duplicated().sum()"
      ],
      "metadata": {
        "id": "SUQlCqU8Cei5"
      },
      "execution_count": null,
      "outputs": []
    },
    {
      "cell_type": "markdown",
      "source": [
        "#### Missing Values/Null Values"
      ],
      "metadata": {
        "id": "PoPl-ycgm1ru"
      }
    },
    {
      "cell_type": "code",
      "source": [
        "# Missing Values/Null Values Count of datasets\n",
        "df_providers.isnull().sum()"
      ],
      "metadata": {
        "id": "GgHWkxvamxVg"
      },
      "execution_count": null,
      "outputs": []
    },
    {
      "cell_type": "code",
      "source": [
        "df_receivers.isnull().sum()"
      ],
      "metadata": {
        "id": "7EAAIpB59_IS"
      },
      "execution_count": null,
      "outputs": []
    },
    {
      "cell_type": "code",
      "source": [
        "df_food_listings.isnull().sum()"
      ],
      "metadata": {
        "id": "HvWMzqNBCw1u"
      },
      "execution_count": null,
      "outputs": []
    },
    {
      "cell_type": "code",
      "source": [
        "df_claims.isnull().sum()"
      ],
      "metadata": {
        "id": "i2NwZHWTC7tY"
      },
      "execution_count": null,
      "outputs": []
    },
    {
      "cell_type": "markdown",
      "source": [
        "### What did you know about your dataset?"
      ],
      "metadata": {
        "id": "H0kj-8xxnORC"
      }
    },
    {
      "cell_type": "markdown",
      "source": [
        "**Provider dataset**\n",
        "- There are 1000 rows and 6 columns in the dataset.\n",
        "- There are no missing Values.\n",
        "\n",
        "**Receiver dataset**\n",
        "- There are 1000 rows and 6 columns in the dataset.\n",
        "- There are no missing Values.\n",
        "\n",
        "**Food Listings dataset**\n",
        "- There are 1000 rows and 9 columns in the dataset.\n",
        "- There are no missing Values.\n",
        "\n",
        "**Claims dataset**\n",
        "- There are 1000 rows and 5 columns in the dataset.\n",
        "- There are no missing Values."
      ],
      "metadata": {
        "id": "gfoNAAC-nUe_"
      }
    },
    {
      "cell_type": "markdown",
      "source": [
        "## ***2. Understanding Your Variables***"
      ],
      "metadata": {
        "id": "nA9Y7ga8ng1Z"
      }
    },
    {
      "cell_type": "code",
      "source": [
        "# Dataset Columns\n",
        "df_providers.columns"
      ],
      "metadata": {
        "id": "j7xfkqrt5Ag5"
      },
      "execution_count": null,
      "outputs": []
    },
    {
      "cell_type": "code",
      "source": [
        "df_receivers.columns"
      ],
      "metadata": {
        "id": "iwL24N_RBzio"
      },
      "execution_count": null,
      "outputs": []
    },
    {
      "cell_type": "code",
      "source": [
        "df_food_listings.columns"
      ],
      "metadata": {
        "id": "jm3APLQDEhAF"
      },
      "execution_count": null,
      "outputs": []
    },
    {
      "cell_type": "code",
      "source": [
        "df_claims.columns"
      ],
      "metadata": {
        "id": "SYZ-38MaEkw8"
      },
      "execution_count": null,
      "outputs": []
    },
    {
      "cell_type": "code",
      "source": [
        "#Dataset Describe\n",
        "df_providers.describe(include='all')"
      ],
      "metadata": {
        "id": "P8ys3L1qT80u"
      },
      "execution_count": null,
      "outputs": []
    },
    {
      "cell_type": "code",
      "source": [
        "df_receivers.describe(include='all')"
      ],
      "metadata": {
        "id": "OTu9ETBICEdd"
      },
      "execution_count": null,
      "outputs": []
    },
    {
      "cell_type": "code",
      "source": [
        "df_food_listings.describe(include='all')"
      ],
      "metadata": {
        "id": "V-XnsoCWE09e"
      },
      "execution_count": null,
      "outputs": []
    },
    {
      "cell_type": "code",
      "source": [
        "df_claims.describe(include='all')"
      ],
      "metadata": {
        "id": "j5vZPgJoE45S"
      },
      "execution_count": null,
      "outputs": []
    },
    {
      "cell_type": "markdown",
      "source": [
        "### Variables Description"
      ],
      "metadata": {
        "id": "PBTbrJXOngz2"
      }
    },
    {
      "cell_type": "markdown",
      "source": [
        "**1. Providers Dataset**\n",
        "\n",
        "*The providers.csv file contains details of food providers who contribute surplus food to the system.*\n",
        "* Provider_ID (Integer) – Unique identifier for each provider.\n",
        "* Name (String) – Name of the food provider (e.g., restaurants, grocery stores, supermarkets).\n",
        "* Type (String) – Category of provider (e.g., Restaurant, Grocery Store, Supermarket).\n",
        "* Address (String) – Physical address of the provider.\n",
        "* City (String) – City where the provider is located.\n",
        "* Contact (String) – Contact information (e.g., phone number).\n",
        "\n",
        "**2. Receivers Dataset**\n",
        "\n",
        "*The receivers.csv file contains details of individuals or organizations receiving food.*\n",
        "\n",
        "* Receiver_ID (Integer) – Unique identifier for each receiver.\n",
        "* Name (String) – Name of the receiver (individual or organization).\n",
        "* Type (String) – Category of receiver (e.g., NGO, Community Center, Individual).\n",
        "* City (String) – City where the receiver is located.\n",
        "* Contact (String) – Contact details (e.g., phone number).\n",
        "\n",
        "**3. Food Listings Dataset**\n",
        "\n",
        "*The food_listings.csv file stores details of available food items that can be claimed by receivers*\n",
        "\n",
        "* Food_ID (Integer) – Unique identifier for each food item.\n",
        "* Food_Name (String) – Name of the food item.\n",
        "* Quantity (Integer) – Quantity available for distribution.\n",
        "* Expiry_Date (Date) – Expiry date of the food item.\n",
        "* Provider_ID (Integer) – Reference to the provider offering the food.\n",
        "* Provider_Type (String) – Type of provider offering the food.\n",
        "* Location (String) – City where the food is available.\n",
        "* Food_Type (String) – Category of food (e.g., Vegetarian, Non-Vegetarian, Vegan).\n",
        "* Meal_Type (String) – Type of meal (e.g., Breakfast, Lunch, Dinner, Snacks).\n",
        "\n",
        "**4. Claims Dataset**\n",
        "\n",
        "*The claims.csv file tracks food claims made by receivers.*\n",
        "\n",
        "* Claim_ID (Integer) – Unique identifier for each claim.\n",
        "* Food_ID (Integer) – Reference to the food item being claimed.\n",
        "* Receiver_ID (Integer) – Reference to the receiver claiming the food.\n",
        "* Status (String) – Current status of the claim (e.g., Pending, Completed, Cancelled).\n",
        "* Timestamp (Datetime) – Date and time when the claim was made.\n"
      ],
      "metadata": {
        "id": "5W0N5i2sDAhf"
      }
    },
    {
      "cell_type": "markdown",
      "source": [
        "### Check Unique Values for each variable."
      ],
      "metadata": {
        "id": "u3PMJOP6ngxN"
      }
    },
    {
      "cell_type": "code",
      "source": [
        "# Check Unique Values for each variable of dataset.\n",
        "df_providers.nunique()"
      ],
      "metadata": {
        "id": "zms12Yq5n-jE"
      },
      "execution_count": null,
      "outputs": []
    },
    {
      "cell_type": "code",
      "source": [
        "df_receivers.nunique()"
      ],
      "metadata": {
        "id": "rs65txtTFsvK"
      },
      "execution_count": null,
      "outputs": []
    },
    {
      "cell_type": "code",
      "source": [
        "df_food_listings.nunique()"
      ],
      "metadata": {
        "id": "cJ604iLxHXTn"
      },
      "execution_count": null,
      "outputs": []
    },
    {
      "cell_type": "code",
      "source": [
        "df_claims.nunique()"
      ],
      "metadata": {
        "id": "ANBSr3D8Hfxk"
      },
      "execution_count": null,
      "outputs": []
    },
    {
      "cell_type": "markdown",
      "source": [
        "## ***3. Data Wrangling***"
      ],
      "metadata": {
        "id": "dauF4eBmngu3"
      }
    },
    {
      "cell_type": "markdown",
      "source": [
        "### Data Wrangling Code"
      ],
      "metadata": {
        "id": "bKJF3rekwFvQ"
      }
    },
    {
      "cell_type": "code",
      "source": [
        "# Clean contact numbers: keep digits, plus sign, and 'x' for extensions\n",
        "import re\n",
        "\n",
        "# Function to clean contact numbers\n",
        "def clean_contact(contact):\n",
        "    if pd.isna(contact):\n",
        "        return None\n",
        "    # Ensure it's a string before cleaning\n",
        "    contact_str = str(contact)\n",
        "    # Keep only +, digits, and 'x' (for extensions)\n",
        "    return re.sub(r\"[^0-9x\\+]\", \"\", contact_str)\n",
        "\n",
        "# Apply cleaning\n",
        "df_providers['Contact'] = df_providers['Contact'].apply(clean_contact)\n",
        "df_receivers['Contact'] = df_receivers['Contact'].apply(clean_contact)"
      ],
      "metadata": {
        "id": "fodXlxnPLx8H"
      },
      "execution_count": null,
      "outputs": []
    },
    {
      "cell_type": "code",
      "source": [
        "# CHANGE DATATYPES\n",
        "\n",
        "# Convert Expiry_Date in df_food_listings to datetime\n",
        "df_food_listings['Expiry_Date'] = pd.to_datetime(df_food_listings['Expiry_Date'], errors='coerce')\n",
        "\n",
        "# Convert Timestamp in df_claims to datetime, then extract time only\n",
        "df_claims['Timestamp'] = pd.to_datetime(df_claims['Timestamp'],errors='coerce')\n"
      ],
      "metadata": {
        "id": "NsZgdp3SKH88"
      },
      "execution_count": null,
      "outputs": []
    },
    {
      "cell_type": "code",
      "source": [
        "# Save all cleaned dataset\n",
        "df_providers.to_csv(\"providers_clean_dataset.csv\", index=False)\n",
        "df_receivers.to_csv(\"receivers_clean_dataset.csv\", index=False)\n",
        "df_food_listings.to_csv(\"food_listing_clean_dataset.csv\", index=False)\n",
        "df_claims.to_csv(\"claims_clean_dataset.csv\", index=False)"
      ],
      "metadata": {
        "id": "MG_KP5jOuvim"
      },
      "execution_count": null,
      "outputs": []
    },
    {
      "cell_type": "markdown",
      "source": [
        "### What all manipulations have you done and insights you found?"
      ],
      "metadata": {
        "id": "MSa1f5Uengrz"
      }
    },
    {
      "cell_type": "markdown",
      "source": [
        "#### **Key Manipulations:**\n",
        "\n",
        "* **Merged Forest and Grassland Datasets** to create a single unified dataset for analysis.\n",
        "* **Dropped `Sub_Unit_Code`** as it contained very few non-null values (sparse, low-utility data).\n",
        "* **Imputed Missing Values**:\n",
        "\n",
        "  * `Site_Name` and `Distance` → `\"Unknown\"`\n",
        "  * `Sex` → `\"Undetermined\"`\n",
        "  * `NPSTaxonCode` & `TaxonCode` → `\"N/A\"`\n",
        "  * `Previously_Obs` → Filled using the most frequent (mode) value.\n",
        "* **Dropped Rows with Missing `ID_Method` and `AcceptedTSN`** to ensure essential identification information is retained.\n",
        "* **Converted `Year` to Integer** (`Int64`) for consistent numeric analysis.\n",
        "* **Cleaned and Standardized Time Fields** (`Start_Time` and `End_Time`): removed extra spaces, extracted `HH:MM:SS`, converted to proper time format.\n",
        "* **Created `Observation_Hour` Column** from `Start_Time` to enable hourly trend analysis.\n",
        "* **Standardized Boolean-like Columns** (`Flyover_Observed`, `PIF_Watchlist_Status`, `Regional_Stewardship_Status`, `Initial_Three_Min_Cnt`) by mapping variations like `'yes'/'no'` and `'true'/'false'` to `True`/`False`.\n",
        "* **Converted Categorical Columns** (e.g., location codes, observer, species, environmental conditions) to category dtype for efficiency and consistency.\n",
        "* **Removed Duplicate Rows** to maintain data integrity.\n",
        "\n",
        "\n",
        "#### **Insights Gained:**\n",
        "\n",
        "* **Data Deduplication** ensures no repeated entries, preventing double counting in species observations.\n",
        "* **Consistent Missing Value Handling** preserves maximum usable data while avoiding gaps in analysis.\n",
        "* **Categorical Standardization** improves the accuracy of grouping, filtering, and summary statistics.\n",
        "* **Time Cleaning and Hour Extraction** enables meaningful time-based pattern detection (e.g., peak bird activity hours).\n",
        "* **Boolean Standardization** supports reliable filtering and aggregation for conservation status and observation methods.\n",
        "* **Dropping Low-Value Columns** removes noise and improves dataset quality for focused analysis."
      ],
      "metadata": {
        "id": "xtr1jvwazHVE"
      }
    },
    {
      "cell_type": "markdown",
      "source": [
        "## ***4. Data Vizualization, Storytelling & Experimenting with charts : Understand the relationships between variables***"
      ],
      "metadata": {
        "id": "eIwFX8WFSH0h"
      }
    },
    {
      "cell_type": "markdown",
      "source": [
        "## **5. Solution to Business Objective**"
      ],
      "metadata": {
        "id": "JcMwzZxoAimU"
      }
    },
    {
      "cell_type": "markdown",
      "source": [
        "#### What do you suggest the client to achieve Business Objective ?\n",
        "Explain Briefly."
      ],
      "metadata": {
        "id": "8G2x9gOozGDZ"
      }
    },
    {
      "cell_type": "markdown",
      "source": [
        "* **Prioritize habitat-specific strategies** — Focus more monitoring and conservation in forests, which currently have higher observation counts, while strengthening grassland biodiversity programs to balance efforts.\n",
        "* **Enhance data collection quality** — Train observers to improve sex determination and accurately record observation distances to close current data gaps.\n",
        "* **Leverage peak observation times** — Schedule eco-tourism activities and research during early morning hours (especially 6–7 a.m.) to maximize sightings.\n",
        "* **Target conservation for rare species** — Create special monitoring programs for low-observation species to prevent population decline.\n",
        "* **Empower top observers** — Recognize and incentivize leading contributors like Elizabeth Oswald to mentor others and improve team-wide performance.\n",
        "* **Integrate environmental condition tracking** — Use insights on wind, sky, and disturbance levels to plan optimal birdwatching and research conditions.\n",
        "* **Diversify observation coverage** — Increase monitoring in varied seasons and times to capture a more complete picture of bird diversity.\n",
        "* **Promote eco-tourism marketing** — Highlight popular species and high-sighting times to attract birdwatching enthusiasts and boost tourism revenue.\n",
        "* **Collaborate with conservation bodies** — Partner with wildlife NGOs, research institutions, and local communities to implement habitat-specific conservation measures.\n"
      ],
      "metadata": {
        "id": "pASKb0qOza21"
      }
    },
    {
      "cell_type": "markdown",
      "source": [
        "# **Conclusion**"
      ],
      "metadata": {
        "id": "gCX9965dhzqZ"
      }
    },
    {
      "cell_type": "markdown",
      "source": [
        "This analysis highlights significant patterns in bird species distribution across forests and grasslands, revealing valuable insights for conservation and biodiversity management. Forest habitats showed slightly higher observation rates, with notable dominance by a few adaptable species. Observation success was strongly influenced by early morning hours, calm weather, and low disturbance. However, gaps in sex identification and limited monitoring of grassland species indicate areas for improvement. Leveraging top observers, enhancing data collection accuracy, and balancing habitat focus can strengthen conservation outcomes. These findings provide a foundation for informed decision-making, optimized resource allocation, and sustainable biodiversity preservation efforts in diverse ecosystems.\n"
      ],
      "metadata": {
        "id": "Fjb1IsQkh3yE"
      }
    }
  ]
}