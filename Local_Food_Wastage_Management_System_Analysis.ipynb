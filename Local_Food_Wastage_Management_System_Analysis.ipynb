{
  "nbformat": 4,
  "nbformat_minor": 0,
  "metadata": {
    "colab": {
      "private_outputs": true,
      "provenance": [],
      "collapsed_sections": [
        "vncDsAP0Gaoa",
        "FJNUwmbgGyua",
        "w6K7xa23Elo4",
        "yQaldy8SH6Dl",
        "PH-0ReGfmX4f",
        "HhfV-JJviCcP",
        "Y3lxredqlCYt",
        "3RnN4peoiCZX",
        "x71ZqKXriCWQ",
        "7hBIi_osiCS2",
        "JlHwYmJAmNHm",
        "35m5QtbWiB9F",
        "PoPl-ycgm1ru",
        "H0kj-8xxnORC",
        "nA9Y7ga8ng1Z",
        "PBTbrJXOngz2",
        "u3PMJOP6ngxN",
        "dauF4eBmngu3",
        "bKJF3rekwFvQ",
        "MSa1f5Uengrz",
        "0wOQAZs5pc--",
        "KSlN3yHqYklG",
        "EwiHc85sqtyK",
        "EM7whBJCYoAo",
        "4Of9eVA-YrdM",
        "bamQiAODYuh1",
        "BZR9WyysphqO",
        "XVAB2WSV_K6d",
        "ebNkfJIXA3BX",
        "OH-pJp9IphqM",
        "hBwiCKPBYjnT",
        "PIIx-8_IphqN",
        "YJ55k-q6phqO",
        "U2RJ9gkRphqQ"
      ],
      "include_colab_link": true
    },
    "kernelspec": {
      "name": "python3",
      "display_name": "Python 3"
    },
    "language_info": {
      "name": "python"
    }
  },
  "cells": [
    {
      "cell_type": "markdown",
      "metadata": {
        "id": "view-in-github",
        "colab_type": "text"
      },
      "source": [
        "<a href=\"https://colab.research.google.com/github/ishadvay3928/Local-Food-Wastage-Management-System-Project/blob/main/Local_Food_Wastage_Management_System_Analysis.ipynb\" target=\"_parent\"><img src=\"https://colab.research.google.com/assets/colab-badge.svg\" alt=\"Open In Colab\"/></a>"
      ]
    },
    {
      "cell_type": "markdown",
      "source": [
        "# **Project Name**    - **Local Food Wastage Management System Analysis**\n",
        "\n"
      ],
      "metadata": {
        "id": "vncDsAP0Gaoa"
      }
    },
    {
      "cell_type": "markdown",
      "source": [
        "##### **Contribution**    - Individual\n"
      ],
      "metadata": {
        "id": "beRrZCGUAJYm"
      }
    },
    {
      "cell_type": "markdown",
      "source": [
        "# **GitHub Link -**"
      ],
      "metadata": {
        "id": "w6K7xa23Elo4"
      }
    },
    {
      "cell_type": "markdown",
      "source": [
        "https://github.com/ishadvay3928/Bird-Species-Observation-Analysis/blob/main/Bird_Species_Observation_EDA_Analysis.ipynb"
      ],
      "metadata": {
        "id": "h1o69JH3Eqqn"
      }
    },
    {
      "cell_type": "markdown",
      "source": [
        "# **Problem Statement**\n"
      ],
      "metadata": {
        "id": "yQaldy8SH6Dl"
      }
    },
    {
      "cell_type": "markdown",
      "source": [
        "The project aims to analyze the distribution and diversity of bird species in two distinct ecosystems: forests and grasslands. By examining bird species observations across these habitats, the goal is to understand how environmental factors, such as vegetation type, climate, and terrain, influence bird populations and their behavior. The study will involve working on the provided observational data of bird species present in both ecosystems, identifying patterns of habitat preference, and assessing the impact of these habitats on bird diversity. The findings can provide valuable insights into habitat conservation, biodiversity management, and the effects of environmental changes on avian communities.\n",
        "\n"
      ],
      "metadata": {
        "id": "DpeJGUA3kjGy"
      }
    },
    {
      "cell_type": "markdown",
      "source": [
        "#### **Define Your Business Objective?**"
      ],
      "metadata": {
        "id": "PH-0ReGfmX4f"
      }
    },
    {
      "cell_type": "markdown",
      "source": [
        "* Study bird species distribution and diversity across forest and grassland habitats.\n",
        "\n",
        "* Identify habitat preferences and key environmental influences on bird presence.\n",
        "\n",
        "* Determine peak observation times to optimize fieldwork and tourism activities.\n",
        "\n",
        "* Highlight dominant and rare species for targeted conservation efforts.\n",
        "\n",
        "* Recognize top observers to improve and motivate data collection.\n",
        "\n",
        "* Provide actionable insights for biodiversity conservation and eco-tourism\n",
        "planning.\n",
        "\n"
      ],
      "metadata": {
        "id": "PhDvGCAqmjP1"
      }
    },
    {
      "cell_type": "markdown",
      "source": [
        "# ***Let's Begin !***"
      ],
      "metadata": {
        "id": "O_i_v8NEhb9l"
      }
    },
    {
      "cell_type": "markdown",
      "source": [
        "## ***1. Know Your Data***"
      ],
      "metadata": {
        "id": "HhfV-JJviCcP"
      }
    },
    {
      "cell_type": "markdown",
      "source": [
        "### Import Libraries"
      ],
      "metadata": {
        "id": "Y3lxredqlCYt"
      }
    },
    {
      "cell_type": "code",
      "source": [
        "# Import Libraries\n",
        "import numpy as np\n",
        "import pandas as pd\n",
        "import matplotlib.pyplot as plt\n",
        "%matplotlib inline\n",
        "import seaborn as sns"
      ],
      "metadata": {
        "id": "M8Vqi-pPk-HR"
      },
      "execution_count": null,
      "outputs": []
    },
    {
      "cell_type": "markdown",
      "source": [
        "### Dataset Loading"
      ],
      "metadata": {
        "id": "3RnN4peoiCZX"
      }
    },
    {
      "cell_type": "code",
      "execution_count": null,
      "metadata": {
        "id": "ovK2BRJojy8z"
      },
      "outputs": [],
      "source": [
        "# Load forest Dataset\n",
        "\n",
        "import pandas as pd\n",
        "# Specify the file path\n",
        "file_path = \"/content/Bird_Monitoring_Data_FOREST.XLSX\"\n",
        "\n",
        "# Read the Excel file with multiple sheets\n",
        "excel_data = pd.ExcelFile(file_path)\n",
        "\n",
        "# Get all sheet names\n",
        "sheet_names = excel_data.sheet_names\n",
        "\n",
        "# Read data from all sheets into a dictionary\n",
        "sheets_dict = {sheet: excel_data.parse(sheet) for sheet in sheet_names}"
      ]
    },
    {
      "cell_type": "code",
      "source": [
        "Forest_combined_df = pd.concat(\n",
        "    [df.assign(Sheet=sheet_name) for sheet_name, df in sheets_dict.items()],\n",
        "    ignore_index=True\n",
        ")"
      ],
      "metadata": {
        "id": "36_Aa_Onj0l2"
      },
      "execution_count": null,
      "outputs": []
    },
    {
      "cell_type": "code",
      "source": [
        "# later u can Drop the 'Sheet' column\n",
        "Forest_combined_df = Forest_combined_df.drop(columns=['Sheet'])"
      ],
      "metadata": {
        "id": "sxkbLMHA8diL"
      },
      "execution_count": null,
      "outputs": []
    },
    {
      "cell_type": "code",
      "execution_count": null,
      "metadata": {
        "id": "a1DYZKMe7f3m"
      },
      "outputs": [],
      "source": [
        "# Load grassland Dataset\n",
        "\n",
        "import pandas as pd\n",
        "# Specify the file path\n",
        "file_path = \"/content/Bird_Monitoring_Data_GRASSLAND.XLSX\"\n",
        "\n",
        "# Read the Excel file with multiple sheets\n",
        "excel_data = pd.ExcelFile(file_path)\n",
        "\n",
        "# Get all sheet names\n",
        "sheet_names = excel_data.sheet_names\n",
        "\n",
        "# Read data from all sheets into a dictionary\n",
        "sheets_dict = {sheet: excel_data.parse(sheet) for sheet in sheet_names}"
      ]
    },
    {
      "cell_type": "code",
      "source": [
        "Grassland_combined_df = pd.concat(\n",
        "    [df.assign(Sheet=sheet_name) for sheet_name, df in sheets_dict.items()],\n",
        "    ignore_index=True\n",
        ")"
      ],
      "metadata": {
        "id": "QfgviBCh7tDe"
      },
      "execution_count": null,
      "outputs": []
    },
    {
      "cell_type": "code",
      "source": [
        "# later u can Drop the 'Sheet' column\n",
        "Grassland_combined_df = Grassland_combined_df.drop(columns=['Sheet'])"
      ],
      "metadata": {
        "id": "uL6BOZVo8xFf"
      },
      "execution_count": null,
      "outputs": []
    },
    {
      "cell_type": "markdown",
      "source": [
        "### Dataset First View"
      ],
      "metadata": {
        "id": "x71ZqKXriCWQ"
      }
    },
    {
      "cell_type": "code",
      "source": [
        "# Dataset First Look\n",
        "Forest_combined_df.head()"
      ],
      "metadata": {
        "id": "LWNFOSvLl09H"
      },
      "execution_count": null,
      "outputs": []
    },
    {
      "cell_type": "code",
      "source": [
        "Grassland_combined_df.head()"
      ],
      "metadata": {
        "id": "oCAqHOxq8JIU"
      },
      "execution_count": null,
      "outputs": []
    },
    {
      "cell_type": "markdown",
      "source": [
        "### Dataset Rows & Columns count"
      ],
      "metadata": {
        "id": "7hBIi_osiCS2"
      }
    },
    {
      "cell_type": "code",
      "source": [
        "# Dataset Rows & Columns count\n",
        "Forest_combined_df.shape"
      ],
      "metadata": {
        "id": "Kllu7SJgmLij"
      },
      "execution_count": null,
      "outputs": []
    },
    {
      "cell_type": "code",
      "source": [
        "Grassland_combined_df.shape"
      ],
      "metadata": {
        "id": "Pmxuc-MN9IyT"
      },
      "execution_count": null,
      "outputs": []
    },
    {
      "cell_type": "markdown",
      "source": [
        "### Dataset Information"
      ],
      "metadata": {
        "id": "JlHwYmJAmNHm"
      }
    },
    {
      "cell_type": "code",
      "source": [
        "# Dataset Info\n",
        "Forest_combined_df.info()"
      ],
      "metadata": {
        "id": "e9hRXRi6meOf"
      },
      "execution_count": null,
      "outputs": []
    },
    {
      "cell_type": "code",
      "source": [
        "Grassland_combined_df.info()"
      ],
      "metadata": {
        "id": "IVn0UClz9S3l"
      },
      "execution_count": null,
      "outputs": []
    },
    {
      "cell_type": "markdown",
      "source": [
        "#### Duplicate Values"
      ],
      "metadata": {
        "id": "35m5QtbWiB9F"
      }
    },
    {
      "cell_type": "code",
      "source": [
        "# Duplicate Value Count\n",
        "Forest_combined_df.duplicated().sum()"
      ],
      "metadata": {
        "id": "1sLdpKYkmox0"
      },
      "execution_count": null,
      "outputs": []
    },
    {
      "cell_type": "code",
      "source": [
        "Grassland_combined_df.duplicated().sum()"
      ],
      "metadata": {
        "id": "cQf_8mYQ9hQP"
      },
      "execution_count": null,
      "outputs": []
    },
    {
      "cell_type": "markdown",
      "source": [
        "#### Missing Values/Null Values"
      ],
      "metadata": {
        "id": "PoPl-ycgm1ru"
      }
    },
    {
      "cell_type": "code",
      "source": [
        "# Missing Values/Null Values Count of datasets\n",
        "Forest_combined_df.isnull().sum()"
      ],
      "metadata": {
        "id": "GgHWkxvamxVg"
      },
      "execution_count": null,
      "outputs": []
    },
    {
      "cell_type": "code",
      "source": [
        "Grassland_combined_df.isnull().sum()"
      ],
      "metadata": {
        "id": "7EAAIpB59_IS"
      },
      "execution_count": null,
      "outputs": []
    },
    {
      "cell_type": "code",
      "source": [
        "# Visualizing the missing values\n",
        "import missingno as msno\n",
        "msno.bar(Forest_combined_df)"
      ],
      "metadata": {
        "id": "3q5wnI3om9sJ"
      },
      "execution_count": null,
      "outputs": []
    },
    {
      "cell_type": "code",
      "source": [
        "import missingno as msno\n",
        "msno.bar(Grassland_combined_df)"
      ],
      "metadata": {
        "id": "Urhi5J96-hWj"
      },
      "execution_count": null,
      "outputs": []
    },
    {
      "cell_type": "markdown",
      "source": [
        "### What did you know about your dataset?"
      ],
      "metadata": {
        "id": "H0kj-8xxnORC"
      }
    },
    {
      "cell_type": "markdown",
      "source": [
        "**Forest dataset**\n",
        "- There are 8546 rows and 29 columns in the dataset.\n",
        "- Out of which 5 Columns have missing Values. Column 'Sub_Unit_Code' have most missing values of 7824.\n",
        "- Out of all 'ID_Method' Have least missing values of 1.\n",
        "\n",
        "**Grassland dataset**\n",
        "- There are 8531 rows and 29 columns in the dataset.\n",
        "- Out of which 5 Columns have missing Values. Column 'Sub_Unit_Code' have most missing values of 8531.\n",
        "- Out of all 'ID_Method' Have least missing values of 1.\n"
      ],
      "metadata": {
        "id": "gfoNAAC-nUe_"
      }
    },
    {
      "cell_type": "markdown",
      "source": [
        "## ***2. Understanding Your Variables***"
      ],
      "metadata": {
        "id": "nA9Y7ga8ng1Z"
      }
    },
    {
      "cell_type": "code",
      "source": [
        "# Dataset Columns\n",
        "Forest_combined_df.columns"
      ],
      "metadata": {
        "id": "j7xfkqrt5Ag5"
      },
      "execution_count": null,
      "outputs": []
    },
    {
      "cell_type": "code",
      "source": [
        "Grassland_combined_df.columns"
      ],
      "metadata": {
        "id": "iwL24N_RBzio"
      },
      "execution_count": null,
      "outputs": []
    },
    {
      "cell_type": "code",
      "source": [
        "#Dataset Describe\n",
        "Forest_combined_df.describe(include='all')"
      ],
      "metadata": {
        "id": "P8ys3L1qT80u"
      },
      "execution_count": null,
      "outputs": []
    },
    {
      "cell_type": "code",
      "source": [
        "Grassland_combined_df.describe(include='all')"
      ],
      "metadata": {
        "id": "OTu9ETBICEdd"
      },
      "execution_count": null,
      "outputs": []
    },
    {
      "cell_type": "markdown",
      "source": [
        "### Variables Description"
      ],
      "metadata": {
        "id": "PBTbrJXOngz2"
      }
    },
    {
      "cell_type": "markdown",
      "source": [
        "**The dataset contains observational data for bird species recorded across multiple forest and grassland sites. It includes detailed columns describing location, observation methods, bird species, and environmental conditions.**\n",
        "\n",
        "- Admin_Unit_Code: The code for the administrative unit (e.g., \"ANTI\") where the observation was conducted.\n",
        "- Sub_Unit_Code: The sub-unit within the administrative unit for further classification.\n",
        "- Site_Name: The name of the specific observation site within the unit.\n",
        "- Plot_Name: A unique identifier for the specific plot where observations were recorded.\n",
        "- Location_Type: The habitat type of the observation area (e.g., \"Forest\").\n",
        "- Year: The year in which the observation took place.\n",
        "- Date: The exact date of the observation.\n",
        "- Start_Time: The start time of the observation session.\n",
        "- End_Time: The end time of the observation session.\n",
        "- Observer: The individual who conducted the observation.\n",
        "- Visit: The count of visits made to the same observation site or plot.\n",
        "- Interval_Length: The duration of the observation interval (e.g., \"0-2.5 min\").\n",
        "- ID_Method: The method used to identify the species (e.g., \"Singing,\" \"Calling,\" \"Visualization\").\n",
        "- Distance: The distance of the observed species from the observer (e.g., \"<= 50 Meters\").\n",
        "- Flyover_Observed: Indicates whether the bird was observed flying overhead (TRUE/FALSE).\n",
        "- Sex: The sex of the observed bird (e.g., Male, Female, Undetermined).\n",
        "- Common_Name: The common name of the observed bird species (e.g., \"Eastern Towhee\").\n",
        "- Scientific_Name: The scientific name of the observed bird species (e.g., Pipilo erythrophthalmus).\n",
        "- AcceptedTSN: The Taxonomic Serial Number for the observed species.\n",
        "- NPSTaxonCode: A unique code assigned to the taxon of the species.\n",
        "- AOU_Code: The American Ornithological Union code for the species.\n",
        "- PIF_Watchlist_Status: Indicates whether the species is on the Partners in  Flight Watchlist (e.g., \"TRUE\" for at-risk species).\n",
        "- Regional_Stewardship_Status: Denotes the conservation priority within the region (TRUE/FALSE).\n",
        "- Temperature: The temperature recorded at the time of observation (in degrees).\n",
        "- Humidity: The humidity percentage recorded at the time of observation.\n",
        "- Sky: The sky condition during the observation (e.g., \"Cloudy/Overcast\").\n",
        "- Wind: The wind condition (e.g., \"Calm (< 1 mph) smoke rises vertically\").\n",
        "- Disturbance: Notes any disturbances that could affect the observation (e.g., \"No effect on count\").\n",
        "- Initial_Three_Min_Cnt: The count of the species observed in the first three minutes of the session.\n",
        "\n",
        "**Sheets Information:**\n",
        "\n",
        "The Excel file contains multiple sheets representing different administrative units, with their codes matching the Admin_Unit_Code column:\n",
        "\n",
        "- ANTI: Data for the Antietam National Battlefield.\n",
        "- CATO: Data for the Catoctin Mountain Park.\n",
        "- CHOH: Data for the Chesapeake and Ohio Canal National Historical Park.\n",
        "- GWMP: Data for the George Washington Memorial Parkway.\n",
        "- HAFE: Data for Harpers Ferry National Historical Park.\n",
        "- MANA: Data for the Manassas National Battlefield Park.\n",
        "- MONO: Data for the Monocacy National Battlefield.\n",
        "- NACE: Data for the National Capital East Parks.\n",
        "- PRWI: Data for the Prince William Forest Park.\n",
        "- ROCR: Data for the Rock Creek Park.\n",
        "- WOTR: Data for the Wolf Trap National Park for the Performing Arts."
      ],
      "metadata": {
        "id": "5W0N5i2sDAhf"
      }
    },
    {
      "cell_type": "markdown",
      "source": [
        "### Check Unique Values for each variable."
      ],
      "metadata": {
        "id": "u3PMJOP6ngxN"
      }
    },
    {
      "cell_type": "code",
      "source": [
        "# Check Unique Values for each variable of dataset.\n",
        "Forest_combined_df.nunique()"
      ],
      "metadata": {
        "id": "zms12Yq5n-jE"
      },
      "execution_count": null,
      "outputs": []
    },
    {
      "cell_type": "code",
      "source": [
        "Grassland_combined_df.nunique()"
      ],
      "metadata": {
        "id": "rs65txtTFsvK"
      },
      "execution_count": null,
      "outputs": []
    },
    {
      "cell_type": "markdown",
      "source": [
        "## ***3. Data Wrangling***"
      ],
      "metadata": {
        "id": "dauF4eBmngu3"
      }
    },
    {
      "cell_type": "markdown",
      "source": [
        "### Data Wrangling Code"
      ],
      "metadata": {
        "id": "bKJF3rekwFvQ"
      }
    },
    {
      "cell_type": "code",
      "source": [
        "# Merge both datasets\n",
        "Merged_df = pd.concat([Forest_combined_df, Grassland_combined_df], ignore_index=True)"
      ],
      "metadata": {
        "id": "8g1BqgUZHqKd"
      },
      "execution_count": null,
      "outputs": []
    },
    {
      "cell_type": "code",
      "source": [
        "# Drop Sub_Unit_Code column as it has very less non-null values\n",
        "Merged_df.drop(columns=['Sub_Unit_Code'], inplace=True)"
      ],
      "metadata": {
        "id": "Hqcu40iFUoHA"
      },
      "execution_count": null,
      "outputs": []
    },
    {
      "cell_type": "code",
      "source": [
        "# impute null values in Site_Name column\n",
        "Merged_df['Site_Name'] = Merged_df['Site_Name'].fillna(\"Unknown\")\n",
        "\n",
        "# impute null values in Distance column\n",
        "Merged_df['Distance'] = Merged_df['Distance'].fillna(\"Unknown\")\n",
        "\n",
        "# impute null values in Sex column\n",
        "Merged_df['Sex'] = Merged_df['Sex'].fillna(\"Undetermined\")\n",
        "\n",
        "# impute null values in NPSTaxonCode column\n",
        "Merged_df['NPSTaxonCode'] = Merged_df['NPSTaxonCode'].fillna(\"N/A\")\n",
        "\n",
        "# impute null values in TaxonCode column\n",
        "Merged_df['TaxonCode'] = Merged_df['TaxonCode'].fillna(\"N/A\")"
      ],
      "metadata": {
        "id": "SErKZLtLXfqU"
      },
      "execution_count": null,
      "outputs": []
    },
    {
      "cell_type": "code",
      "source": [
        "# impute null values in Previously_Obs column using mode\n",
        "Merged_df['Previously_Obs'] = Merged_df['Previously_Obs'].fillna(Merged_df['Previously_Obs'].mode()[0])"
      ],
      "metadata": {
        "id": "2M3Vot3CXtJs"
      },
      "execution_count": null,
      "outputs": []
    },
    {
      "cell_type": "code",
      "source": [
        "# Drop rows where 'ID_Method' or 'AcceptedTSN' are null\n",
        "Merged_df = Merged_df.dropna(subset=['ID_Method', 'AcceptedTSN'])"
      ],
      "metadata": {
        "id": "D73GMxM0Td0Z"
      },
      "execution_count": null,
      "outputs": []
    },
    {
      "cell_type": "code",
      "source": [
        "# CHANGE DATATYPES\n",
        "\n",
        "# Fix Year column\n",
        "Merged_df['Year'] = pd.to_numeric(Merged_df['Year'], errors='coerce').astype('Int64')\n",
        "\n",
        "# Handle 'Start_time' and ''End_Time' Columns\n",
        "# Convert to string and strip spaces\n",
        "Merged_df['Start_Time'] = Merged_df['Start_Time'].astype(str).str.strip()\n",
        "Merged_df['End_Time'] = Merged_df['End_Time'].astype(str).str.strip()\n",
        "\n",
        "# Extract only the HH:MM:SS part (last 8 characters)\n",
        "Merged_df['Start_Time'] = Merged_df['Start_Time'].str[-8:]\n",
        "Merged_df['End_Time'] = Merged_df['End_Time'].str[-8:]\n",
        "\n",
        "# Convert to proper time format\n",
        "Merged_df['Start_Time'] = pd.to_datetime(Merged_df['Start_Time'], format='%H:%M:%S', errors='coerce').dt.time\n",
        "Merged_df['End_Time'] = pd.to_datetime(Merged_df['End_Time'], format='%H:%M:%S', errors='coerce').dt.time\n",
        "\n",
        "# Create a column for observation hour\n",
        "Merged_df['Observation_Hour'] = pd.to_datetime(Merged_df['Start_Time'].astype(str), format='%H:%M:%S').dt.hour\n"
      ],
      "metadata": {
        "id": "5g6k73Nif1v7"
      },
      "execution_count": null,
      "outputs": []
    },
    {
      "cell_type": "code",
      "source": [
        "bool_cols = ['Flyover_Observed', 'PIF_Watchlist_Status',\n",
        "             'Regional_Stewardship_Status', 'Initial_Three_Min_Cnt']\n",
        "\n",
        "for col in bool_cols:\n",
        "    Merged_df[col] = Merged_df[col].astype(str).str.strip().str.lower().map(\n",
        "        {'true': True, 'false': False, 'yes': True, 'no': False}\n",
        "    )\n",
        "cat_cols = ['Admin_Unit_Code', 'Site_Name', 'Plot_Name', 'Location_Type',\n",
        "            'Observer', 'ID_Method', 'Distance', 'Sex', 'Common_Name',\n",
        "            'Scientific_Name', 'Sky', 'Wind', 'Disturbance']\n",
        "\n",
        "for col in cat_cols:\n",
        "    Merged_df[col] = Merged_df[col].astype('category')"
      ],
      "metadata": {
        "id": "SGcAqvbCqt_Z"
      },
      "execution_count": null,
      "outputs": []
    },
    {
      "cell_type": "code",
      "source": [
        "# Drop Duplicates from merged dataset\n",
        "Merged_df.drop_duplicates(inplace=True)"
      ],
      "metadata": {
        "id": "A1gU9Rvpq9-U"
      },
      "execution_count": null,
      "outputs": []
    },
    {
      "cell_type": "code",
      "source": [
        "Merged_df.info()"
      ],
      "metadata": {
        "id": "s29N6K14n4Si"
      },
      "execution_count": null,
      "outputs": []
    },
    {
      "cell_type": "code",
      "source": [
        "# Save cleaned dataset\n",
        "Merged_df.to_csv(\"Bird_Monitoring_Clean_Merged_dataset.csv\", index=False)"
      ],
      "metadata": {
        "id": "MG_KP5jOuvim"
      },
      "execution_count": null,
      "outputs": []
    },
    {
      "cell_type": "markdown",
      "source": [
        "### What all manipulations have you done and insights you found?"
      ],
      "metadata": {
        "id": "MSa1f5Uengrz"
      }
    },
    {
      "cell_type": "markdown",
      "source": [
        "#### **Key Manipulations:**\n",
        "\n",
        "* **Merged Forest and Grassland Datasets** to create a single unified dataset for analysis.\n",
        "* **Dropped `Sub_Unit_Code`** as it contained very few non-null values (sparse, low-utility data).\n",
        "* **Imputed Missing Values**:\n",
        "\n",
        "  * `Site_Name` and `Distance` → `\"Unknown\"`\n",
        "  * `Sex` → `\"Undetermined\"`\n",
        "  * `NPSTaxonCode` & `TaxonCode` → `\"N/A\"`\n",
        "  * `Previously_Obs` → Filled using the most frequent (mode) value.\n",
        "* **Dropped Rows with Missing `ID_Method` and `AcceptedTSN`** to ensure essential identification information is retained.\n",
        "* **Converted `Year` to Integer** (`Int64`) for consistent numeric analysis.\n",
        "* **Cleaned and Standardized Time Fields** (`Start_Time` and `End_Time`): removed extra spaces, extracted `HH:MM:SS`, converted to proper time format.\n",
        "* **Created `Observation_Hour` Column** from `Start_Time` to enable hourly trend analysis.\n",
        "* **Standardized Boolean-like Columns** (`Flyover_Observed`, `PIF_Watchlist_Status`, `Regional_Stewardship_Status`, `Initial_Three_Min_Cnt`) by mapping variations like `'yes'/'no'` and `'true'/'false'` to `True`/`False`.\n",
        "* **Converted Categorical Columns** (e.g., location codes, observer, species, environmental conditions) to category dtype for efficiency and consistency.\n",
        "* **Removed Duplicate Rows** to maintain data integrity.\n",
        "\n",
        "\n",
        "#### **Insights Gained:**\n",
        "\n",
        "* **Data Deduplication** ensures no repeated entries, preventing double counting in species observations.\n",
        "* **Consistent Missing Value Handling** preserves maximum usable data while avoiding gaps in analysis.\n",
        "* **Categorical Standardization** improves the accuracy of grouping, filtering, and summary statistics.\n",
        "* **Time Cleaning and Hour Extraction** enables meaningful time-based pattern detection (e.g., peak bird activity hours).\n",
        "* **Boolean Standardization** supports reliable filtering and aggregation for conservation status and observation methods.\n",
        "* **Dropping Low-Value Columns** removes noise and improves dataset quality for focused analysis."
      ],
      "metadata": {
        "id": "xtr1jvwazHVE"
      }
    },
    {
      "cell_type": "markdown",
      "source": [
        "## ***4. Data Vizualization, Storytelling & Experimenting with charts : Understand the relationships between variables***"
      ],
      "metadata": {
        "id": "GF8Ens_Soomf"
      }
    },
    {
      "cell_type": "markdown",
      "source": [
        "#### Chart - 1 (Habitat Type Distribution)"
      ],
      "metadata": {
        "id": "0wOQAZs5pc--"
      }
    },
    {
      "cell_type": "code",
      "source": [
        "# Habitat Type Distribution\n",
        "plt.figure(figsize=(12, 6))\n",
        "Merged_df['Location_Type'].value_counts().plot(kind='pie',autopct ='%1.1f%%', colors =['cornflowerblue', 'plum'])\n",
        "plt.title(\"Observations by Habitat Type\")\n",
        "plt.ylabel('')\n",
        "plt.show()"
      ],
      "metadata": {
        "id": "Ev-5qUHGFia9"
      },
      "execution_count": null,
      "outputs": []
    },
    {
      "cell_type": "markdown",
      "source": [
        "##### 1. Why did you pick the specific chart?"
      ],
      "metadata": {
        "id": "K5QZ13OEpz2H"
      }
    },
    {
      "cell_type": "markdown",
      "source": [
        "I chose a pie chart because it clearly shows the proportional distribution of observations across different habitat types."
      ],
      "metadata": {
        "id": "XESiWehPqBRc"
      }
    },
    {
      "cell_type": "markdown",
      "source": [
        "##### 2. What is/are the insight(s) found from the chart?"
      ],
      "metadata": {
        "id": "lQ7QKXXCp7Bj"
      }
    },
    {
      "cell_type": "markdown",
      "source": [
        "The chart reveals that 55.6% of observations occur in forests, while 44.4% are in grasslands."
      ],
      "metadata": {
        "id": "C_j1G7yiqdRP"
      }
    },
    {
      "cell_type": "markdown",
      "source": [
        "##### 3. Will the gained insights help creating a positive business impact?\n",
        "Are there any insights that lead to negative growth? Justify with specific reason."
      ],
      "metadata": {
        "id": "448CDAPjqfQr"
      }
    },
    {
      "cell_type": "markdown",
      "source": [
        "Yes, this insight can guide resource allocation toward forest habitats, which have higher observations. No negative growth is indicated, but grassland-focused strategies might need extra attention to balance biodiversity monitoring."
      ],
      "metadata": {
        "id": "3cspy4FjqxJW"
      }
    },
    {
      "cell_type": "markdown",
      "source": [
        "#### Chart - 2 (Sex Distribution)"
      ],
      "metadata": {
        "id": "KSlN3yHqYklG"
      }
    },
    {
      "cell_type": "code",
      "source": [
        "# Sex Ratio\n",
        "sex_ratio = Merged_df['Sex'].value_counts(normalize=True) * 100\n",
        "sex_ratio.plot(kind='pie', autopct='%1.1f%%', startangle=90, colors=['silver', 'lightblue', 'pink'])\n",
        "plt.ylabel(\"\")\n",
        "plt.title(\"Sex Distribution of Observed Birds\")\n",
        "plt.show()"
      ],
      "metadata": {
        "id": "R4YgtaqtYklH"
      },
      "execution_count": null,
      "outputs": []
    },
    {
      "cell_type": "markdown",
      "source": [
        "##### 1. Why did you pick the specific chart?"
      ],
      "metadata": {
        "id": "t6dVpIINYklI"
      }
    },
    {
      "cell_type": "markdown",
      "source": [
        "I chose a pie chart as it visually emphasizes the large disparity in sex identification among observed birds."
      ],
      "metadata": {
        "id": "5aaW0BYyYklI"
      }
    },
    {
      "cell_type": "markdown",
      "source": [
        "##### 2. What is/are the insight(s) found from the chart?"
      ],
      "metadata": {
        "id": "ijmpgYnKYklI"
      }
    },
    {
      "cell_type": "markdown",
      "source": [
        "The data shows that 79% of observations have undetermined sex, 20.2% are male, and only 0.8% are female."
      ],
      "metadata": {
        "id": "PSx9atu2YklI"
      }
    },
    {
      "cell_type": "markdown",
      "source": [
        "##### 3. Will the gained insights help creating a positive business impact?\n",
        "Are there any insights that lead to negative growth? Justify with specific reason."
      ],
      "metadata": {
        "id": "-JiQyfWJYklI"
      }
    },
    {
      "cell_type": "markdown",
      "source": [
        "Yes, This insight signals a gap in data quality — improving sex identification could enhance research and conservation planning, while leaving it unresolved may hinder accurate analysis and lead to less effective strategies."
      ],
      "metadata": {
        "id": "BcBbebzrYklV"
      }
    },
    {
      "cell_type": "markdown",
      "source": [
        "#### Chart - 3 (Top 10 Bird Species)"
      ],
      "metadata": {
        "id": "EwiHc85sqtyK"
      }
    },
    {
      "cell_type": "code",
      "source": [
        "# top 10 Bird Species\n",
        "top_birds = Merged_df['Common_Name'].value_counts().nlargest(10)\n",
        "\n",
        "# Convert to DataFrame for seaborn\n",
        "top_birds_df = top_birds.reset_index()\n",
        "top_birds_df.columns = ['Common_Name', 'Observation_Count']\n",
        "\n",
        "plt.figure(figsize=(12, 6))\n",
        "sns.barplot(\n",
        "    data=top_birds_df,\n",
        "    x='Observation_Count',\n",
        "    y='Common_Name',\n",
        "    palette='Set3',\n",
        "    order=top_birds_df['Common_Name']\n",
        ")\n",
        "plt.title(\"Top 10 Bird Species by Observation Count\")\n",
        "plt.xlabel(\"Count\")\n",
        "plt.ylabel(\"Bird Species\")\n",
        "plt.xticks(rotation=45, ha='right')\n",
        "plt.tight_layout()\n",
        "plt.show()"
      ],
      "metadata": {
        "id": "tzhRgFjqqtyL"
      },
      "execution_count": null,
      "outputs": []
    },
    {
      "cell_type": "markdown",
      "source": [
        "##### 1. Why did you pick the specific chart?"
      ],
      "metadata": {
        "id": "hAI2zFCDqtyM"
      }
    },
    {
      "cell_type": "markdown",
      "source": [
        "I chose a horizontal bar chart as it effectively compares observation counts across multiple bird species.\n"
      ],
      "metadata": {
        "id": "z-KPrQ39qtyN"
      }
    },
    {
      "cell_type": "markdown",
      "source": [
        "##### 2. What is/are the insight(s) found from the chart?"
      ],
      "metadata": {
        "id": "bd5fJyq-qtyN"
      }
    },
    {
      "cell_type": "markdown",
      "source": [
        "The Northern Cardinal and Carolina Wren have the highest observation counts, indicating their dominance in the dataset."
      ],
      "metadata": {
        "id": "-2mcIkGxqtyO"
      }
    },
    {
      "cell_type": "markdown",
      "source": [
        "##### 3. Will the gained insights help creating a positive business impact?\n",
        "Are there any insights that lead to negative growth? Justify with specific reason."
      ],
      "metadata": {
        "id": "wBxHo9IlqtyO"
      }
    },
    {
      "cell_type": "markdown",
      "source": [
        "Yes, this insight can guide targeted conservation or tourism initiatives for popular species, with no direct negative growth, though lower-count species may require more monitoring to avoid decline."
      ],
      "metadata": {
        "id": "vpQfeh_BqtyO"
      }
    },
    {
      "cell_type": "markdown",
      "source": [
        "#### Chart - 4 (Distance Distribution)"
      ],
      "metadata": {
        "id": "EM7whBJCYoAo"
      }
    },
    {
      "cell_type": "code",
      "source": [
        "# Distance Distribution\n",
        "plt.figure(figsize=(8, 6))\n",
        "sns.countplot(data=Merged_df, x='Distance', palette='viridis')\n",
        "plt.title(\"Bird Observation Distance Distribution\")\n",
        "plt.show()"
      ],
      "metadata": {
        "id": "t6GMdE67YoAp"
      },
      "execution_count": null,
      "outputs": []
    },
    {
      "cell_type": "markdown",
      "source": [
        "##### 1. Why did you pick the specific chart?"
      ],
      "metadata": {
        "id": "fge-S5ZAYoAp"
      }
    },
    {
      "cell_type": "markdown",
      "source": [
        "A bar chart was chosen to effectively compare the counts of observations across different distance categories, as it clearly shows the relative magnitude of each group."
      ],
      "metadata": {
        "id": "5dBItgRVYoAp"
      }
    },
    {
      "cell_type": "markdown",
      "source": [
        "##### 2. What is/are the insight(s) found from the chart?"
      ],
      "metadata": {
        "id": "85gYPyotYoAp"
      }
    },
    {
      "cell_type": "markdown",
      "source": [
        "The insights are that most bird observations occurred at a distance of 50-100 meters, followed by those within 50 meters. A significantly smaller number of observations had an unknown distance."
      ],
      "metadata": {
        "id": "4jstXR6OYoAp"
      }
    },
    {
      "cell_type": "markdown",
      "source": [
        "##### 3. Will the gained insights help creating a positive business impact?\n",
        "Are there any insights that lead to negative growth? Justify with specific reason."
      ],
      "metadata": {
        "id": "RoGjAbkUYoAp"
      }
    },
    {
      "cell_type": "markdown",
      "source": [
        "Yes, This data could be used to optimize equipment or training for observers, potentially leading to a positive business impact. However, there are no insights that directly indicate negative growth, as the chart simply shows a distribution of data without any associated negative outcomes."
      ],
      "metadata": {
        "id": "zfJ8IqMcYoAp"
      }
    },
    {
      "cell_type": "markdown",
      "source": [
        "#### Chart - 5 (Top Observers)"
      ],
      "metadata": {
        "id": "4Of9eVA-YrdM"
      }
    },
    {
      "cell_type": "code",
      "source": [
        "# Top Observers\n",
        "top_observers = Merged_df['Observer'].value_counts()\n",
        "sns.barplot(x=top_observers.index, y=top_observers.values, palette='Set3')\n",
        "plt.title(\"Top Observers\")\n",
        "plt.xticks(rotation=45)\n",
        "plt.show()"
      ],
      "metadata": {
        "id": "irlUoxc8YrdO"
      },
      "execution_count": null,
      "outputs": []
    },
    {
      "cell_type": "markdown",
      "source": [
        "##### 1. Why did you pick the specific chart?"
      ],
      "metadata": {
        "id": "iky9q4vBYrdO"
      }
    },
    {
      "cell_type": "markdown",
      "source": [
        "A bar chart was chosen to easily compare the number of observations made by the top three observers."
      ],
      "metadata": {
        "id": "aJRCwT6DYrdO"
      }
    },
    {
      "cell_type": "markdown",
      "source": [
        "##### 2. What is/are the insight(s) found from the chart?"
      ],
      "metadata": {
        "id": "F6T5p64dYrdO"
      }
    },
    {
      "cell_type": "markdown",
      "source": [
        "The chart reveals that Elizabeth Oswald is the most frequent observer, followed closely by Kimberly Serno, with Brian Swimelar having the lowest number of observations among the top three."
      ],
      "metadata": {
        "id": "Xx8WAJvtYrdO"
      }
    },
    {
      "cell_type": "markdown",
      "source": [
        "##### 3. Will the gained insights help creating a positive business impact?\n",
        "Are there any insights that lead to negative growth? Justify with specific reason."
      ],
      "metadata": {
        "id": "y-Ehk30pYrdP"
      }
    },
    {
      "cell_type": "markdown",
      "source": [
        "The insights from this chart could help create a positive business impact by identifying and rewarding the top observers, which can motivate them and others to increase their contributions. There are no insights that directly indicate negative growth, as the chart simply highlights the varying performance among the top contributors without any negative context."
      ],
      "metadata": {
        "id": "jLNxxz7MYrdP"
      }
    },
    {
      "cell_type": "markdown",
      "source": [
        "#### Chart - 6 (Hourly Observations by hour)"
      ],
      "metadata": {
        "id": "bamQiAODYuh1"
      }
    },
    {
      "cell_type": "code",
      "source": [
        "# Hourly Observations by hour\n",
        "plt.figure(figsize=(10, 6))\n",
        "sns.countplot(data=Merged_df, x='Observation_Hour', palette='coolwarm')\n",
        "plt.title(\"Bird Observations by Hour of Day\")\n",
        "plt.show()"
      ],
      "metadata": {
        "id": "TIJwrbroYuh3"
      },
      "execution_count": null,
      "outputs": []
    },
    {
      "cell_type": "markdown",
      "source": [
        "##### 1. Why did you pick the specific chart?"
      ],
      "metadata": {
        "id": "QHF8YVU7Yuh3"
      }
    },
    {
      "cell_type": "markdown",
      "source": [
        "A bar chart was chosen to display the count of bird observations for each hour, as it effectively compares the number of observations across a discrete time series."
      ],
      "metadata": {
        "id": "dcxuIMRPYuh3"
      }
    },
    {
      "cell_type": "markdown",
      "source": [
        "##### 2. What is/are the insight(s) found from the chart?"
      ],
      "metadata": {
        "id": "GwzvFGzlYuh3"
      }
    },
    {
      "cell_type": "markdown",
      "source": [
        "The insights are that bird observations peak at 7 a.m., with a high volume also occurring at 6 a.m. The number of observations decreases steadily after 7 a.m., with the lowest number of observations happening at 10 a.m."
      ],
      "metadata": {
        "id": "uyqkiB8YYuh3"
      }
    },
    {
      "cell_type": "markdown",
      "source": [
        "##### 3. Will the gained insights help creating a positive business impact?\n",
        "Are there any insights that lead to negative growth? Justify with specific reason."
      ],
      "metadata": {
        "id": "qYpmQ266Yuh3"
      }
    },
    {
      "cell_type": "markdown",
      "source": [
        "The insights can lead to a positive business impact by helping organizations schedule and optimize resources for bird-watching tours or research, concentrating efforts during peak observation times. There are no insights that directly indicate negative growth, as the chart simply shows the temporal distribution of observations."
      ],
      "metadata": {
        "id": "_WtzZ_hCYuh4"
      }
    },
    {
      "cell_type": "markdown",
      "source": [
        "#### Chart - 7 (Bird Species Observations Over Time)"
      ],
      "metadata": {
        "id": "BZR9WyysphqO"
      }
    },
    {
      "cell_type": "code",
      "source": [
        "# Bird Species Observations Over Time\n",
        "\n",
        "# Group by Date and count bird observations\n",
        "bird_counts = Merged_df.groupby('Date')['Common_Name'].count().reset_index()\n",
        "\n",
        "plt.figure(figsize=(10, 4))\n",
        "sns.lineplot(data=bird_counts, x='Date', y='Common_Name')\n",
        "\n",
        "plt.title(\"Bird Species Observations Over Time\")\n",
        "plt.tight_layout()\n",
        "plt.show()"
      ],
      "metadata": {
        "id": "TdPTWpAVphqO"
      },
      "execution_count": null,
      "outputs": []
    },
    {
      "cell_type": "markdown",
      "source": [
        "##### 1. Why did you pick the specific chart?"
      ],
      "metadata": {
        "id": "jj7wYXLtphqO"
      }
    },
    {
      "cell_type": "markdown",
      "source": [
        "A line chart was chosen to show the trend of bird species observations over time, as it is the most effective way to visualize changes and patterns over a continuous period."
      ],
      "metadata": {
        "id": "Ob8u6rCTphqO"
      }
    },
    {
      "cell_type": "markdown",
      "source": [
        "##### 2. What is/are the insight(s) found from the chart?"
      ],
      "metadata": {
        "id": "eZrbJ2SmphqO"
      }
    },
    {
      "cell_type": "markdown",
      "source": [
        "The chart reveals significant daily fluctuations in the number of bird species observations, with no clear long-term upward or downward trend. There are several noticeable peaks and valleys throughout the observed period."
      ],
      "metadata": {
        "id": "mZtgC_hjphqO"
      }
    },
    {
      "cell_type": "markdown",
      "source": [
        "##### 3. Will the gained insights help creating a positive business impact?\n",
        "Are there any insights that lead to negative growth? Justify with specific reason."
      ],
      "metadata": {
        "id": "rFu4xreNphqO"
      }
    },
    {
      "cell_type": "markdown",
      "source": [
        "The insights can help businesses by informing them of the variability in daily observations, which could be useful for scheduling and resource planning. There are no insights that directly indicate negative growth, as the chart shows fluctuation rather than a consistent decline."
      ],
      "metadata": {
        "id": "ey_0qi68phqO"
      }
    },
    {
      "cell_type": "markdown",
      "source": [
        "#### Chart - 8 (Boolean Category Distributions)"
      ],
      "metadata": {
        "id": "XVAB2WSV_K6d"
      }
    },
    {
      "cell_type": "code",
      "source": [
        "# Boolean Category Distributions\n",
        "\n",
        "# Create subplots: 1 row, 4 columns\n",
        "fig, axes = plt.subplots(1, 4, figsize=(18, 6))\n",
        "\n",
        "# Plot 1: Flyover Observed\n",
        "sns.countplot(data=Merged_df, x='Flyover_Observed', hue='Flyover_Observed', palette='Set1', legend=False, ax=axes[0])\n",
        "axes[0].set_title('Flyover Observed')\n",
        "axes[0].tick_params(axis='x', rotation=0)\n",
        "\n",
        "# Plot 2: PIF Watchlist Status\n",
        "sns.countplot(data=Merged_df, x='PIF_Watchlist_Status', hue='PIF_Watchlist_Status', palette='Set2', legend=False, ax=axes[1])\n",
        "axes[1].set_title('PIF Watchlist Status')\n",
        "axes[1].tick_params(axis='x', rotation=0)\n",
        "\n",
        "# Plot 3: Regional Stewardship Status\n",
        "sns.countplot(data=Merged_df, x='Regional_Stewardship_Status', hue='Regional_Stewardship_Status', palette='coolwarm', legend=False, ax=axes[2])\n",
        "axes[2].set_title('Regional Stewardship Status')\n",
        "axes[2].tick_params(axis='x', rotation=0)\n",
        "\n",
        "# Plot 4: Initial_Three_Min_Cnt\n",
        "sns.countplot(data=Merged_df, x='Initial_Three_Min_Cnt', hue='Initial_Three_Min_Cnt', palette='viridis', legend=False, ax=axes[3])\n",
        "axes[3].set_title('Initial_Three_Min_Cnt')\n",
        "axes[3].tick_params(axis='x', rotation=0)\n",
        "\n",
        "# Main title\n",
        "fig.suptitle('Boolean Category Distributions in Bird Observations', fontsize=18)\n",
        "\n",
        "# Adjust layout\n",
        "plt.tight_layout(rect=[0, 0, 1, 0.95])\n",
        "plt.show()\n",
        "\n",
        "\n"
      ],
      "metadata": {
        "id": "Th6ua7HQ_K6e"
      },
      "execution_count": null,
      "outputs": []
    },
    {
      "cell_type": "markdown",
      "source": [
        "##### 1. Why did you pick the specific chart?"
      ],
      "metadata": {
        "id": "dTuwX1T1_K6e"
      }
    },
    {
      "cell_type": "markdown",
      "source": [
        "A bar charts was chosen to compare the distributions of observations for four different boolean categories, as this layout allows for a clear, side-by-side comparison of the counts for 'True' and 'False' for each category."
      ],
      "metadata": {
        "id": "oVABhtBB_K6e"
      }
    },
    {
      "cell_type": "markdown",
      "source": [
        "##### 2. What is/are the insight(s) found from the chart?"
      ],
      "metadata": {
        "id": "HqqUOn6K_K6f"
      }
    },
    {
      "cell_type": "markdown",
      "source": [
        "The insights are that in most observations, the bird was not a flyover, was not on the PIF Watchlist, and was observed for more than three minutes. The Regional Stewardship Status, however, was 'False' in the majority of cases."
      ],
      "metadata": {
        "id": "XhxUNCsv_K6f"
      }
    },
    {
      "cell_type": "markdown",
      "source": [
        "##### 3. Will the gained insights help creating a positive business impact?\n",
        "Are there any insights that lead to negative growth? Justify with specific reason."
      ],
      "metadata": {
        "id": "RMvBziyN_K6f"
      }
    },
    {
      "cell_type": "markdown",
      "source": [
        "The insights can lead to a positive business impact by helping to focus conservation efforts on birds with a 'True' PIF Watchlist or Regional Stewardship Status, which are relatively low in number. There are no insights that directly indicate negative growth, as the charts simply provide a distribution of data without any negative outcomes."
      ],
      "metadata": {
        "id": "iArKzVjL_K6f"
      }
    },
    {
      "cell_type": "markdown",
      "source": [
        "#### Chart - 9 (Temperature Vs Humidity By Distance)"
      ],
      "metadata": {
        "id": "ebNkfJIXA3BX"
      }
    },
    {
      "cell_type": "code",
      "source": [
        "# Temperature Vs Humidity By Distance\n",
        "sns.scatterplot(data=Merged_df, x='Temperature', y='Humidity', hue='Distance', alpha=0.6)\n",
        "plt.title(\"Temperature vs Humidity by Distance\")\n",
        "plt.show()"
      ],
      "metadata": {
        "id": "Gs82gdX0A3BY"
      },
      "execution_count": null,
      "outputs": []
    },
    {
      "cell_type": "markdown",
      "source": [
        "##### 1. Why did you pick the specific chart?"
      ],
      "metadata": {
        "id": "DH_Ec0a5A3BZ"
      }
    },
    {
      "cell_type": "markdown",
      "source": [
        "A scatter plot was chosen to visualize the relationship between temperature and humidity, while using different colors to represent different observation distances. This allows for the simultaneous analysis of three variables."
      ],
      "metadata": {
        "id": "A6udt7ESA3BZ"
      }
    },
    {
      "cell_type": "markdown",
      "source": [
        "##### 2. What is/are the insight(s) found from the chart?"
      ],
      "metadata": {
        "id": "DW0NJqXyA3BZ"
      }
    },
    {
      "cell_type": "markdown",
      "source": [
        "The chart shows no clear correlation between temperature and humidity. Observations were made across a wide range of temperatures and humidity levels, and there is no apparent clustering based on the observation distance."
      ],
      "metadata": {
        "id": "sQYjoR2TA3BZ"
      }
    },
    {
      "cell_type": "markdown",
      "source": [
        "##### 3. Will the gained insights help creating a positive business impact?\n",
        "Are there any insights that lead to negative growth? Justify with specific reason."
      ],
      "metadata": {
        "id": "fCM2FKZwA3BZ"
      }
    },
    {
      "cell_type": "markdown",
      "source": [
        "The insights from this chart do not directly suggest a positive or negative business impact, as they indicate a lack of correlation. The data shows that the distance of an observation is not dependent on temperature or humidity, which could be useful for businesses to know when planning observations, but does not inherently create growth or decline.\n",
        "\n",
        "\n",
        "\n",
        "\n",
        "\n",
        "\n",
        "\n",
        "\n",
        "\n"
      ],
      "metadata": {
        "id": "gZ3rdTkZA3Ba"
      }
    },
    {
      "cell_type": "markdown",
      "source": [
        "#### Chart - 10 (Sex Distribution by Habitat Type)"
      ],
      "metadata": {
        "id": "OH-pJp9IphqM"
      }
    },
    {
      "cell_type": "code",
      "source": [
        "# Sex Distribution by Habitat Type\n",
        "sns.countplot(data=Merged_df, x='Sex', hue='Location_Type', palette='pastel')\n",
        "plt.title(\"Sex Distribution by Habitat\")\n",
        "plt.show()"
      ],
      "metadata": {
        "id": "kuRf4wtuphqN"
      },
      "execution_count": null,
      "outputs": []
    },
    {
      "cell_type": "markdown",
      "source": [
        "##### 1. Why did you pick the specific chart?"
      ],
      "metadata": {
        "id": "bbFf2-_FphqN"
      }
    },
    {
      "cell_type": "markdown",
      "source": [
        "A grouped bar chart was chosen to effectively compare the sex distribution of birds across two different habitat types (Forest and Grassland) side-by-side."
      ],
      "metadata": {
        "id": "loh7H2nzphqN"
      }
    },
    {
      "cell_type": "markdown",
      "source": [
        "##### 2. What is/are the insight(s) found from the chart?"
      ],
      "metadata": {
        "id": "_ouA3fa0phqN"
      }
    },
    {
      "cell_type": "markdown",
      "source": [
        "The chart reveals that most observations in both habitats have an undetermined sex. A higher number of male birds were observed in grasslands, while a higher number of observations with undetermined sex occurred in forests."
      ],
      "metadata": {
        "id": "VECbqPI7phqN"
      }
    },
    {
      "cell_type": "markdown",
      "source": [
        "##### 3. Will the gained insights help creating a positive business impact?\n",
        "Are there any insights that lead to negative growth? Justify with specific reason."
      ],
      "metadata": {
        "id": "Seke61FWphqN"
      }
    },
    {
      "cell_type": "markdown",
      "source": [
        "Yes, The insights can help businesses by highlighting the need for more accurate sex determination during observations, especially for forest habitats. This could lead to improved data quality and a positive impact, but there is no direct evidence of negative growth."
      ],
      "metadata": {
        "id": "DW4_bGpfphqN"
      }
    },
    {
      "cell_type": "markdown",
      "source": [
        "#### Chart - 11 (Top Bird Species Distribution Across Environmental Factors)"
      ],
      "metadata": {
        "id": "hBwiCKPBYjnT"
      }
    },
    {
      "cell_type": "code",
      "source": [
        "# Top Bird Species Distribution Across Environmental Factors\n",
        "\n",
        "# Create subplots: 1 row, 3 columns\n",
        "fig, axes = plt.subplots(1, 3, figsize=(24, 8), sharey=True)  # sharey for same y-axis scale\n",
        "\n",
        "# Plot 1: Top Bird species by Wind\n",
        "sns.countplot(\n",
        "    data=Merged_df,\n",
        "    x='Common_Name', hue='Wind', palette='coolwarm',\n",
        "    order=top_birds_df['Common_Name'],\n",
        "    ax=axes[0]\n",
        ")\n",
        "axes[0].set_title(\"Top Bird Species by Wind\")\n",
        "axes[0].tick_params(axis='x', rotation=90)\n",
        "axes[0].legend(title=\"Wind\")\n",
        "\n",
        "# Plot 2: Top Bird species by Sky\n",
        "sns.countplot(\n",
        "    data=Merged_df,\n",
        "    x='Common_Name', hue='Sky', palette='Set2',\n",
        "    order=top_birds_df['Common_Name'],\n",
        "    ax=axes[1]\n",
        ")\n",
        "axes[1].set_title(\"Top Bird Species by Sky\")\n",
        "axes[1].tick_params(axis='x', rotation=90)\n",
        "axes[1].legend(title=\"Sky\")\n",
        "\n",
        "# Plot 3: Top Bird species by Disturbance\n",
        "sns.countplot(\n",
        "    data=Merged_df,\n",
        "    x='Common_Name', hue='Disturbance', palette='viridis',\n",
        "    order=top_birds_df['Common_Name'],\n",
        "    ax=axes[2]\n",
        ")\n",
        "axes[2].set_title(\"Top Bird Species by Disturbance\")\n",
        "axes[2].tick_params(axis='x', rotation=90)\n",
        "axes[2].legend(title=\"Disturbance\")\n",
        "\n",
        "# Main title\n",
        "fig.suptitle(\"Top Bird Species Distribution Across Environmental Factors\", fontsize=20)\n",
        "\n",
        "# Adjust layout\n",
        "plt.tight_layout(rect=[0, 0, 1, 0.95])\n",
        "plt.show()\n"
      ],
      "metadata": {
        "id": "_DMLCHrXh1wv"
      },
      "execution_count": null,
      "outputs": []
    },
    {
      "cell_type": "markdown",
      "source": [
        "##### 1. Why did you pick the specific chart?"
      ],
      "metadata": {
        "id": "Q6kD7fz8YjnT"
      }
    },
    {
      "cell_type": "markdown",
      "source": [
        "A grouped bar chart was chosen to effectively compare the distribution of the top bird species across three different environmental factors (wind, sky, and disturbance) side-by-side. This allows for a detailed comparison of how each species' observations are influenced by these factors."
      ],
      "metadata": {
        "id": "PkXuBY4OYjnT"
      }
    },
    {
      "cell_type": "markdown",
      "source": [
        "##### 2. What is/are the insight(s) found from the chart?"
      ],
      "metadata": {
        "id": "LLh-D4s5YjnT"
      }
    },
    {
      "cell_type": "markdown",
      "source": [
        "The chart reveals that most observations for the top bird species occurred during calm wind conditions, under clear or few clouds, and when there was no or moderate disturbance. The specific distribution varies by bird species."
      ],
      "metadata": {
        "id": "ZEZ1eJbpYjnU"
      }
    },
    {
      "cell_type": "markdown",
      "source": [
        "##### 3. Will the gained insights help creating a positive business impact?\n",
        "Are there any insights that lead to negative growth? Justify with specific reason."
      ],
      "metadata": {
        "id": "nV3XiurjYjnU"
      }
    },
    {
      "cell_type": "markdown",
      "source": [
        "These insights can help businesses by informing the optimal conditions for birdwatching tours or research, leading to a positive business impact. By knowing when to plan activities for a higher chance of observation, they can improve customer satisfaction or research outcomes. No direct negative growth is indicated, as the data simply shows correlations."
      ],
      "metadata": {
        "id": "yXJpisg6YjnU"
      }
    },
    {
      "cell_type": "markdown",
      "source": [
        "#### Chart - 12 (Observer Activity by Habitat Type)"
      ],
      "metadata": {
        "id": "PIIx-8_IphqN"
      }
    },
    {
      "cell_type": "code",
      "source": [
        "# Observer Activity by Habitat Type\n",
        "plt.figure(figsize =(8,6))\n",
        "sns.countplot(data=Merged_df, x='Observer', hue='Location_Type', order=top_observers.index, palette='viridis')\n",
        "plt.title(\"Top Observers by Habitat Type\")\n",
        "plt.xticks(rotation=45)\n",
        "plt.show()"
      ],
      "metadata": {
        "id": "lqAIGUfyphqO"
      },
      "execution_count": null,
      "outputs": []
    },
    {
      "cell_type": "markdown",
      "source": [
        "##### 1. Why did you pick the specific chart?"
      ],
      "metadata": {
        "id": "t27r6nlMphqO"
      }
    },
    {
      "cell_type": "markdown",
      "source": [
        "A grouped bar chart was chosen to effectively compare the number of observations made by each of the top observers in two different habitat types, Forest and Grassland, allowing for a side-by-side comparison."
      ],
      "metadata": {
        "id": "iv6ro40sphqO"
      }
    },
    {
      "cell_type": "markdown",
      "source": [
        "##### 2. What is/are the insight(s) found from the chart?"
      ],
      "metadata": {
        "id": "r2jJGEOYphqO"
      }
    },
    {
      "cell_type": "markdown",
      "source": [
        "The insights are that all three top observers made more observations in forest habitats than in grasslands. Elizabeth Oswald made the most observations overall, with the largest difference between her forest and grassland counts."
      ],
      "metadata": {
        "id": "Po6ZPi4hphqO"
      }
    },
    {
      "cell_type": "markdown",
      "source": [
        "##### 3. Will the gained insights help creating a positive business impact?\n",
        "Are there any insights that lead to negative growth? Justify with specific reason."
      ],
      "metadata": {
        "id": "b0JNsNcRphqO"
      }
    },
    {
      "cell_type": "markdown",
      "source": [
        "The insights can create a positive business impact by helping to understand and leverage the strengths of top observers. For instance, an organization could identify Elizabeth Oswald as a potential leader for forest-based observation projects. There are no insights that directly indicate negative growth, as the chart shows a difference in contribution rather than a decline.\n",
        "\n",
        "\n",
        "\n",
        "\n",
        "\n",
        "\n",
        "\n",
        "\n"
      ],
      "metadata": {
        "id": "xvSq8iUTphqO"
      }
    },
    {
      "cell_type": "markdown",
      "source": [
        "#### Chart - 13 (Observation Hour by Habitat Type)"
      ],
      "metadata": {
        "id": "YJ55k-q6phqO"
      }
    },
    {
      "cell_type": "code",
      "source": [
        "# Observation Hour vs Season vs Habitat\n",
        "plt.figure(figsize =(8,6))\n",
        "sns.countplot(data=Merged_df, x='Observation_Hour', hue='Location_Type', palette='coolwarm')\n",
        "plt.title(\"Observation Hour by Habitat Type\")\n",
        "plt.show()\n"
      ],
      "metadata": {
        "id": "B2aS4O1ophqO"
      },
      "execution_count": null,
      "outputs": []
    },
    {
      "cell_type": "markdown",
      "source": [
        "##### 1. Why did you pick the specific chart?"
      ],
      "metadata": {
        "id": "gCFgpxoyphqP"
      }
    },
    {
      "cell_type": "markdown",
      "source": [
        "A grouped bar chart was chosen to effectively compare the number of observations across different hours of the day for two distinct habitat types, Forest and Grassland."
      ],
      "metadata": {
        "id": "TVxDimi2phqP"
      }
    },
    {
      "cell_type": "markdown",
      "source": [
        "##### 2. What is/are the insight(s) found from the chart?"
      ],
      "metadata": {
        "id": "OVtJsKN_phqQ"
      }
    },
    {
      "cell_type": "markdown",
      "source": [
        "The insights are that forest observations peak at 7 a.m. and then decline, while grassland observations are more consistent in the morning and peak slightly later. At 10 a.m., there are more grassland observations than forest ones."
      ],
      "metadata": {
        "id": "ngGi97qjphqQ"
      }
    },
    {
      "cell_type": "markdown",
      "source": [
        "##### 3. Will the gained insights help creating a positive business impact?\n",
        "Are there any insights that lead to negative growth? Justify with specific reason."
      ],
      "metadata": {
        "id": "lssrdh5qphqQ"
      }
    },
    {
      "cell_type": "markdown",
      "source": [
        "The insights can help create a positive business impact by informing better scheduling of activities. For example, a business could organize forest-based tours earlier in the morning and grassland tours later in the morning to maximize observation opportunities. There are no insights that directly indicate negative growth, as the chart only shows the distribution of observations over time."
      ],
      "metadata": {
        "id": "tBpY5ekJphqQ"
      }
    },
    {
      "cell_type": "markdown",
      "source": [
        "## **5. Solution to Business Objective**"
      ],
      "metadata": {
        "id": "JcMwzZxoAimU"
      }
    },
    {
      "cell_type": "markdown",
      "source": [
        "#### What do you suggest the client to achieve Business Objective ?\n",
        "Explain Briefly."
      ],
      "metadata": {
        "id": "8G2x9gOozGDZ"
      }
    },
    {
      "cell_type": "markdown",
      "source": [
        "* **Prioritize habitat-specific strategies** — Focus more monitoring and conservation in forests, which currently have higher observation counts, while strengthening grassland biodiversity programs to balance efforts.\n",
        "* **Enhance data collection quality** — Train observers to improve sex determination and accurately record observation distances to close current data gaps.\n",
        "* **Leverage peak observation times** — Schedule eco-tourism activities and research during early morning hours (especially 6–7 a.m.) to maximize sightings.\n",
        "* **Target conservation for rare species** — Create special monitoring programs for low-observation species to prevent population decline.\n",
        "* **Empower top observers** — Recognize and incentivize leading contributors like Elizabeth Oswald to mentor others and improve team-wide performance.\n",
        "* **Integrate environmental condition tracking** — Use insights on wind, sky, and disturbance levels to plan optimal birdwatching and research conditions.\n",
        "* **Diversify observation coverage** — Increase monitoring in varied seasons and times to capture a more complete picture of bird diversity.\n",
        "* **Promote eco-tourism marketing** — Highlight popular species and high-sighting times to attract birdwatching enthusiasts and boost tourism revenue.\n",
        "* **Collaborate with conservation bodies** — Partner with wildlife NGOs, research institutions, and local communities to implement habitat-specific conservation measures.\n"
      ],
      "metadata": {
        "id": "pASKb0qOza21"
      }
    },
    {
      "cell_type": "markdown",
      "source": [
        "# **Conclusion**"
      ],
      "metadata": {
        "id": "gCX9965dhzqZ"
      }
    },
    {
      "cell_type": "markdown",
      "source": [
        "This analysis highlights significant patterns in bird species distribution across forests and grasslands, revealing valuable insights for conservation and biodiversity management. Forest habitats showed slightly higher observation rates, with notable dominance by a few adaptable species. Observation success was strongly influenced by early morning hours, calm weather, and low disturbance. However, gaps in sex identification and limited monitoring of grassland species indicate areas for improvement. Leveraging top observers, enhancing data collection accuracy, and balancing habitat focus can strengthen conservation outcomes. These findings provide a foundation for informed decision-making, optimized resource allocation, and sustainable biodiversity preservation efforts in diverse ecosystems.\n"
      ],
      "metadata": {
        "id": "Fjb1IsQkh3yE"
      }
    }
  ]
}